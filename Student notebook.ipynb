{
  "cells": [
    {
      "cell_type": "markdown",
      "id": "a0fb4d32-1c6a-41f6-bcd5-5e32aea70fdf",
      "metadata": {
        "id": "a0fb4d32-1c6a-41f6-bcd5-5e32aea70fdf"
      },
      "source": [
        "# Student Notebook\n",
        "#### This notebook is for you to take notes and save directly to your Google drive and GITHUB.\n",
        "\n",
        "Please upload your changes so you can review it later."
      ]
    },
    {
      "cell_type": "markdown",
      "id": "9a8d1388-7e11-4262-8e94-581493c554f4",
      "metadata": {
        "id": "9a8d1388-7e11-4262-8e94-581493c554f4"
      },
      "source": [
        "# Introduction to Python Basics I"
      ]
    },
    {
      "cell_type": "code",
      "execution_count": null,
      "id": "61d77fcf-3df2-4fee-8da0-d8c0c39f1992",
      "metadata": {
        "id": "61d77fcf-3df2-4fee-8da0-d8c0c39f1992"
      },
      "outputs": [],
      "source": [
        "                ||\n",
        "----------------------------------  \n",
        "                || \n",
        "----------------------------------  \n",
        "                ||"
      ]
    },
    {
      "cell_type": "code",
      "execution_count": null,
      "id": "981ce62a-e33e-4a11-a369-b1f63f783208",
      "metadata": {
        "id": "981ce62a-e33e-4a11-a369-b1f63f783208"
      },
      "outputs": [],
      "source": [
        "a=‘‘Hello,world!’’  \n",
        "a=‘‘andgoodbye...’’  \n",
        "printaa"
      ]
    },
    {
      "cell_type": "code",
      "execution_count": null,
      "id": "8a4eefe9-ec12-4e51-9227-0a769594ccdd",
      "metadata": {
        "id": "8a4eefe9-ec12-4e51-9227-0a769594ccdd"
      },
      "outputs": [],
      "source": [
        "x=5+7  \n",
        "printx  \n",
        "y=x+10  \n",
        "printy"
      ]
    },
    {
      "cell_type": "code",
      "execution_count": null,
      "id": "b1cbe5c6-102a-4c6a-b09a-b53a9c47b820",
      "metadata": {
        "id": "b1cbe5c6-102a-4c6a-b09a-b53a9c47b820"
      },
      "outputs": [],
      "source": [
        "Enteryourfirstname:Chuck  \n",
        "Enteryourlastname:Norris  \n",
        "Enteryourdateofbirth:  \n",
        "Month?March  \n",
        "Day?10  \n",
        "Year?1940\n",
        "\n",
        "mo=’October’  \n",
        "day=’20’  \n",
        "year=’1977’\n",
        "printmo,day,year\n"
      ]
    },
    {
      "cell_type": "code",
      "source": [],
      "metadata": {
        "id": "85ZF5TbmZER_"
      },
      "id": "85ZF5TbmZER_",
      "execution_count": null,
      "outputs": []
    },
    {
      "cell_type": "code",
      "execution_count": null,
      "id": "3832eb93-094f-4de4-9726-f633e246cac5",
      "metadata": {
        "id": "3832eb93-094f-4de4-9726-f633e246cac5"
      },
      "outputs": [],
      "source": []
    },
    {
      "cell_type": "code",
      "execution_count": null,
      "id": "520a6910-fec0-4c19-929d-23bbe0290946",
      "metadata": {
        "id": "520a6910-fec0-4c19-929d-23bbe0290946"
      },
      "outputs": [],
      "source": []
    },
    {
      "cell_type": "code",
      "execution_count": null,
      "id": "bfd44c86-5e36-4f71-88ef-496589098171",
      "metadata": {
        "id": "bfd44c86-5e36-4f71-88ef-496589098171"
      },
      "outputs": [],
      "source": []
    },
    {
      "cell_type": "code",
      "execution_count": null,
      "id": "f8d4c821-eca0-471d-91d8-ccb710d2166b",
      "metadata": {
        "id": "f8d4c821-eca0-471d-91d8-ccb710d2166b"
      },
      "outputs": [],
      "source": []
    },
    {
      "cell_type": "code",
      "execution_count": null,
      "id": "89c6149b-6276-48ab-a205-b0aed26c232c",
      "metadata": {
        "id": "89c6149b-6276-48ab-a205-b0aed26c232c"
      },
      "outputs": [],
      "source": []
    },
    {
      "cell_type": "code",
      "execution_count": null,
      "id": "07686502-7571-481a-8b20-bec590084b7b",
      "metadata": {
        "id": "07686502-7571-481a-8b20-bec590084b7b"
      },
      "outputs": [],
      "source": []
    },
    {
      "cell_type": "code",
      "execution_count": null,
      "id": "8ca30ace-cb73-43dc-a3b0-2f27aa362c7c",
      "metadata": {
        "id": "8ca30ace-cb73-43dc-a3b0-2f27aa362c7c"
      },
      "outputs": [],
      "source": []
    },
    {
      "cell_type": "code",
      "execution_count": null,
      "id": "0f31b763-9d91-456a-bebe-e57ec2065451",
      "metadata": {
        "id": "0f31b763-9d91-456a-bebe-e57ec2065451"
      },
      "outputs": [],
      "source": []
    },
    {
      "cell_type": "code",
      "execution_count": null,
      "id": "7b5cd6d5-5466-49ba-b198-7c8983a237cc",
      "metadata": {
        "id": "7b5cd6d5-5466-49ba-b198-7c8983a237cc"
      },
      "outputs": [],
      "source": []
    },
    {
      "cell_type": "code",
      "execution_count": null,
      "id": "26a6af88-80a4-4bd2-be9b-8d00c3d4a416",
      "metadata": {
        "id": "26a6af88-80a4-4bd2-be9b-8d00c3d4a416"
      },
      "outputs": [],
      "source": []
    },
    {
      "cell_type": "code",
      "execution_count": null,
      "id": "0207740d-fc24-4937-a9ca-f18c2e64aa98",
      "metadata": {
        "id": "0207740d-fc24-4937-a9ca-f18c2e64aa98"
      },
      "outputs": [],
      "source": []
    },
    {
      "cell_type": "code",
      "execution_count": null,
      "id": "7492f9ac-99a0-44c7-9289-aae79a7a5ab4",
      "metadata": {
        "id": "7492f9ac-99a0-44c7-9289-aae79a7a5ab4"
      },
      "outputs": [],
      "source": []
    },
    {
      "cell_type": "code",
      "execution_count": null,
      "id": "511545a3-3e1b-4f89-a4c2-50f5a11d6037",
      "metadata": {
        "id": "511545a3-3e1b-4f89-a4c2-50f5a11d6037"
      },
      "outputs": [],
      "source": []
    },
    {
      "cell_type": "code",
      "execution_count": null,
      "id": "395f484f-2453-4060-a9c6-484cfd699365",
      "metadata": {
        "id": "395f484f-2453-4060-a9c6-484cfd699365"
      },
      "outputs": [],
      "source": []
    },
    {
      "cell_type": "code",
      "execution_count": null,
      "id": "92eb00c8-432e-46fe-9463-bed79228fd63",
      "metadata": {
        "id": "92eb00c8-432e-46fe-9463-bed79228fd63"
      },
      "outputs": [],
      "source": []
    },
    {
      "cell_type": "code",
      "execution_count": null,
      "id": "a61e99c4-476f-4079-95b7-b02e29e13e73",
      "metadata": {
        "id": "a61e99c4-476f-4079-95b7-b02e29e13e73"
      },
      "outputs": [],
      "source": []
    },
    {
      "cell_type": "code",
      "execution_count": null,
      "id": "6b7e050d-71db-45ec-81b6-b4f593b58930",
      "metadata": {
        "id": "6b7e050d-71db-45ec-81b6-b4f593b58930"
      },
      "outputs": [],
      "source": []
    },
    {
      "cell_type": "code",
      "execution_count": null,
      "id": "75083780-5bf8-4a21-a96f-be036bd6ed6e",
      "metadata": {
        "id": "75083780-5bf8-4a21-a96f-be036bd6ed6e"
      },
      "outputs": [],
      "source": []
    },
    {
      "cell_type": "code",
      "execution_count": null,
      "id": "7c4c384e-170c-453b-ba73-5b9e1112b30f",
      "metadata": {
        "id": "7c4c384e-170c-453b-ba73-5b9e1112b30f"
      },
      "outputs": [],
      "source": []
    },
    {
      "cell_type": "code",
      "execution_count": null,
      "id": "1ed20989-df63-4537-9543-f633510d2cdf",
      "metadata": {
        "id": "1ed20989-df63-4537-9543-f633510d2cdf"
      },
      "outputs": [],
      "source": []
    },
    {
      "cell_type": "code",
      "execution_count": null,
      "id": "1fefe175-e76f-45c2-9933-f201f6686c78",
      "metadata": {
        "id": "1fefe175-e76f-45c2-9933-f201f6686c78"
      },
      "outputs": [],
      "source": []
    },
    {
      "cell_type": "code",
      "execution_count": null,
      "id": "9b98cc92-f24a-446d-bda5-fb4407e55451",
      "metadata": {
        "id": "9b98cc92-f24a-446d-bda5-fb4407e55451"
      },
      "outputs": [],
      "source": []
    },
    {
      "cell_type": "code",
      "execution_count": null,
      "id": "e91f3af0-53df-4f87-a9f7-c6f79c2fa1bb",
      "metadata": {
        "id": "e91f3af0-53df-4f87-a9f7-c6f79c2fa1bb"
      },
      "outputs": [],
      "source": []
    },
    {
      "cell_type": "code",
      "execution_count": null,
      "id": "8fbcdbc0-4902-430f-9d44-451643eb9a6d",
      "metadata": {
        "id": "8fbcdbc0-4902-430f-9d44-451643eb9a6d"
      },
      "outputs": [],
      "source": []
    },
    {
      "cell_type": "code",
      "execution_count": null,
      "id": "c20fe24b-93dc-454a-9bb7-aa85e77c6d4d",
      "metadata": {
        "id": "c20fe24b-93dc-454a-9bb7-aa85e77c6d4d"
      },
      "outputs": [],
      "source": []
    },
    {
      "cell_type": "code",
      "execution_count": null,
      "id": "2ec357e0-2539-41fa-81ac-5378df7575e4",
      "metadata": {
        "id": "2ec357e0-2539-41fa-81ac-5378df7575e4"
      },
      "outputs": [],
      "source": []
    },
    {
      "cell_type": "code",
      "execution_count": null,
      "id": "9357fff5-5beb-4722-878a-fa348954682a",
      "metadata": {
        "id": "9357fff5-5beb-4722-878a-fa348954682a"
      },
      "outputs": [],
      "source": []
    }
  ],
  "metadata": {
    "kernelspec": {
      "display_name": "Python 3",
      "language": "python",
      "name": "python3"
    },
    "language_info": {
      "codemirror_mode": {
        "name": "ipython",
        "version": 3
      },
      "file_extension": ".py",
      "mimetype": "text/x-python",
      "name": "python",
      "nbconvert_exporter": "python",
      "pygments_lexer": "ipython3",
      "version": "3.7.11"
    },
    "colab": {
      "provenance": []
    }
  },
  "nbformat": 4,
  "nbformat_minor": 5
}