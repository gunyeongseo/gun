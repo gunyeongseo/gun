{
  "cells": [
    {
      "cell_type": "markdown",
      "id": "7384ff73",
      "metadata": {
        "deletable": false,
        "editable": false,
        "nbgrader": {
          "cell_type": "markdown",
          "checksum": "a5395a11f967f65e40663e1029fba2fc",
          "grade": false,
          "grade_id": "Introduction",
          "locked": true,
          "schema_version": 3,
          "solution": false,
          "task": false
        },
        "id": "7384ff73"
      },
      "source": [
        "# Laboratory #2\n",
        "\n",
        "* This is an introductory exercise for you to learn about Python basics.\n",
        "\n",
        "* Each question has a value of 10 points\n",
        "\n",
        "* For this laboratory, please write the correct answer between the comments `# START YOUR CODE HERE` and `# LAST LINE` in their respective question.\n",
        "\n",
        "* **DO NOT MODIFY OTHER PARTS OF THE CODE**\n"
      ]
    },
    {
      "cell_type": "markdown",
      "id": "e37aff44",
      "metadata": {
        "id": "e37aff44"
      },
      "source": [
        "**Write your basic information**\n",
        "\n",
        "* Full Name: gunyeongseo\n",
        "* Student ID: 202201289\n",
        "* GitHub ID: gunyeongseo\n",
        "* Date: 10/19\n",
        "\n",
        "Answer the questions or complete the tasks below, use the specific method described if applicable."
      ]
    },
    {
      "cell_type": "markdown",
      "id": "973b3138",
      "metadata": {
        "deletable": false,
        "editable": false,
        "nbgrader": {
          "cell_type": "markdown",
          "checksum": "3c19e3403975e7524f14b10284bb72f5",
          "grade": false,
          "grade_id": "q1_desc",
          "locked": true,
          "schema_version": 3,
          "solution": false,
          "task": false
        },
        "id": "973b3138"
      },
      "source": [
        "**Question 1:** \n",
        "* Create the variables `a` equal to `9` and `b` equal to `6`.\n",
        "* Create a variable `c` equal to (`a` to the power of `b`).\n",
        "* What is the value of `c`? (print the result)"
      ]
    },
    {
      "cell_type": "code",
      "execution_count": 1,
      "id": "dbd24305",
      "metadata": {
        "deletable": false,
        "nbgrader": {
          "cell_type": "code",
          "checksum": "c55f2f8267fe52ea577942fc14c4b497",
          "grade": false,
          "grade_id": "q1_ans",
          "locked": false,
          "schema_version": 3,
          "solution": true,
          "task": false
        },
        "id": "dbd24305"
      },
      "outputs": [],
      "source": [
        "def q_1(a = 9, b = 6, c = 36):\n",
        "    # START YOUR CODE HERE\n",
        "\n",
        "    # LAST LINE\n",
        "    return a, b, c"
      ]
    },
    {
      "cell_type": "code",
      "execution_count": null,
      "outputs": [],
      "source": [
        "q_1()"
      ],
      "metadata": {
        "pycharm": {
          "name": "#%%\n"
        },
        "id": "zha8WVpjiXiW"
      },
      "id": "zha8WVpjiXiW"
    },
    {
      "cell_type": "markdown",
      "id": "45f499b3",
      "metadata": {
        "deletable": false,
        "editable": false,
        "nbgrader": {
          "cell_type": "markdown",
          "checksum": "1307f1e9e22ee6ae5f26b9bcc981236f",
          "grade": false,
          "grade_id": "q2_desc",
          "locked": true,
          "schema_version": 3,
          "solution": false,
          "task": false
        },
        "id": "45f499b3"
      },
      "source": [
        "**Question 2:** Create and split this following string variable:\n",
        "\n",
        "`st = \"Programming Languages 101\"`\n",
        "\n",
        "into a list. Save the result in a new variable `s`."
      ]
    },
    {
      "cell_type": "code",
      "execution_count": 2,
      "id": "732eab2d",
      "metadata": {
        "deletable": false,
        "nbgrader": {
          "cell_type": "code",
          "checksum": "e195a99c985e2cdae54fc6144d217d22",
          "grade": false,
          "grade_id": "q2_ans",
          "locked": false,
          "schema_version": 3,
          "solution": true,
          "task": false
        },
        "id": "732eab2d"
      },
      "outputs": [],
      "source": [
        "def q_2(st = \"Programming Languages 101\", s =\"\"):\n",
        "    # START YOUR CODE HERE\n",
        "\n",
        "    # LAST LINE\n",
        "    return st, s"
      ]
    },
    {
      "cell_type": "markdown",
      "id": "63c84c8c",
      "metadata": {
        "deletable": false,
        "editable": false,
        "nbgrader": {
          "cell_type": "markdown",
          "checksum": "4eebec668d6143ac974e0d295ec9ff75",
          "grade": false,
          "grade_id": "q3_desc",
          "locked": true,
          "schema_version": 3,
          "solution": false,
          "task": false
        },
        "id": "63c84c8c"
      },
      "source": [
        "**Question 3:**  Create and use the following variables:\n",
        "\n",
        "`space_station` equal to `Death Star I`\n",
        "`diameter` equal to `120`\n",
        "\n",
        "Use .format() to print the following string and save it in a new variable `starwars`:\n",
        "\n",
        "The diameter of Death Star I is 120 kilometers."
      ]
    },
    {
      "cell_type": "code",
      "source": [],
      "metadata": {
        "id": "LZphBQ3Kk4np"
      },
      "id": "LZphBQ3Kk4np",
      "execution_count": null,
      "outputs": []
    },
    {
      "cell_type": "code",
      "execution_count": null,
      "id": "5db9e2c2",
      "metadata": {
        "deletable": false,
        "nbgrader": {
          "cell_type": "code",
          "checksum": "2fc9935a068ab82211df6a0f58eebd57",
          "grade": false,
          "grade_id": "q3_ans",
          "locked": false,
          "schema_version": 3,
          "solution": true,
          "task": false
        },
        "id": "5db9e2c2"
      },
      "outputs": [],
      "source": [
        "def q_3(space_station = \"\", diameter = \"\", starwars = \"\"):\n",
        "    # START YOUR CODE HERE\n",
        "\n",
        "    # LAST LINE\n",
        "    return space_station, diameter, starwars"
      ]
    },
    {
      "cell_type": "code",
      "execution_count": null,
      "outputs": [],
      "source": [
        "q_3()"
      ],
      "metadata": {
        "pycharm": {
          "name": "#%%\n"
        },
        "id": "blC9TPmAiXiX"
      },
      "id": "blC9TPmAiXiX"
    },
    {
      "cell_type": "markdown",
      "id": "751dbfda",
      "metadata": {
        "deletable": false,
        "editable": false,
        "nbgrader": {
          "cell_type": "markdown",
          "checksum": "808558c48d0838bb24b56fc869668cba",
          "grade": false,
          "grade_id": "q4_desc",
          "locked": true,
          "schema_version": 3,
          "solution": false,
          "task": false
        },
        "id": "751dbfda"
      },
      "source": [
        "**Question 4:**\n",
        "\n",
        "* Use the len method to print the length of the string. \n",
        "\n",
        "* `x = \"Welcome to Programming Language Course\"`\n",
        "\n",
        "* Save the result of the len method in a new variable `h`.\n"
      ]
    },
    {
      "cell_type": "code",
      "execution_count": null,
      "id": "d99653b3",
      "metadata": {
        "deletable": false,
        "nbgrader": {
          "cell_type": "code",
          "checksum": "4b171a81b89b04dff7621a8aa44c9237",
          "grade": false,
          "grade_id": "q4_ans",
          "locked": false,
          "schema_version": 3,
          "solution": true,
          "task": false
        },
        "id": "d99653b3"
      },
      "outputs": [],
      "source": [
        "def q_4(x = \"\", h =\"\"):\n",
        "    # START YOUR CODE HERE\n",
        "\n",
        "    # LAST LINE\n",
        "    return x, h"
      ]
    },
    {
      "cell_type": "markdown",
      "id": "93e7349a",
      "metadata": {
        "deletable": false,
        "editable": false,
        "nbgrader": {
          "cell_type": "markdown",
          "checksum": "c70a6ae47a5f4a0fd0160544580be460",
          "grade": false,
          "grade_id": "q5_desc",
          "locked": true,
          "schema_version": 3,
          "solution": false,
          "task": false
        },
        "id": "93e7349a"
      },
      "source": [
        "**Question 5:**\n",
        "\n",
        "* Get the first character of the variable `txt` using their index\n",
        "* `txt = \"Welcome to the 2nd Laboratory\"`\n",
        "\n",
        "* Save the result in a new variable `k`.\n"
      ]
    },
    {
      "cell_type": "code",
      "execution_count": null,
      "id": "0543d039",
      "metadata": {
        "deletable": false,
        "nbgrader": {
          "cell_type": "code",
          "checksum": "0250afeaaa8f96dde3ef816354dce02d",
          "grade": false,
          "grade_id": "q5_ans",
          "locked": false,
          "schema_version": 3,
          "solution": true,
          "task": false
        },
        "id": "0543d039"
      },
      "outputs": [],
      "source": [
        "def q_5(txt = \"\", k =\"\"):\n",
        "    # START YOUR CODE HERE\n",
        "\n",
        "    # LAST LINE\n",
        "    return txt, k"
      ]
    },
    {
      "cell_type": "markdown",
      "id": "892e8f0d",
      "metadata": {
        "deletable": false,
        "editable": false,
        "nbgrader": {
          "cell_type": "markdown",
          "checksum": "89a76f3b8724b59f36d4979248bb4e2c",
          "grade": false,
          "grade_id": "q6_desc",
          "locked": true,
          "schema_version": 3,
          "solution": false,
          "task": false
        },
        "id": "892e8f0d"
      },
      "source": [
        "**Question 6:**\n",
        "\n",
        "* Get the characters from index 2 to index 4 of the string txt.\n",
        "* `txt = \"Welcome to the 2nd Laboratory\"`\n",
        "* Save the result in a new variable `v`.\n"
      ]
    },
    {
      "cell_type": "code",
      "execution_count": null,
      "id": "c7d064c5",
      "metadata": {
        "deletable": false,
        "nbgrader": {
          "cell_type": "code",
          "checksum": "3b18f284f67a6c0394b5c5d1a1c9ae47",
          "grade": false,
          "grade_id": "q6_ans",
          "locked": false,
          "schema_version": 3,
          "solution": true,
          "task": false
        },
        "id": "c7d064c5"
      },
      "outputs": [],
      "source": [
        "def q_6(txt = \"\", v =\"\"):\n",
        "    # START YOUR CODE HERE\n",
        "\n",
        "    # LAST LINE\n",
        "    return txt, v"
      ]
    },
    {
      "cell_type": "markdown",
      "id": "a93b74eb",
      "metadata": {
        "deletable": false,
        "editable": false,
        "nbgrader": {
          "cell_type": "markdown",
          "checksum": "0b43aeee74759e72110f7136d973f7b2",
          "grade": false,
          "grade_id": "q7_desc",
          "locked": true,
          "schema_version": 3,
          "solution": false,
          "task": false
        },
        "id": "a93b74eb"
      },
      "source": [
        "**Question 7:**\n",
        "\n",
        "* Convert the value of txt to upper case.\n",
        "* `txt = \"Welcome to the 2nd Laboratory\"`\n",
        "* Save the result in a new variable `b`."
      ]
    },
    {
      "cell_type": "code",
      "execution_count": null,
      "id": "8267e80b",
      "metadata": {
        "deletable": false,
        "nbgrader": {
          "cell_type": "code",
          "checksum": "0ef3c39b6a1972740052033903802d16",
          "grade": false,
          "grade_id": "q7_ans",
          "locked": false,
          "schema_version": 3,
          "solution": true,
          "task": false
        },
        "id": "8267e80b"
      },
      "outputs": [],
      "source": [
        "def q_7(txt = \"\", b =\"\"):\n",
        "    # START YOUR CODE HERE\n",
        "\n",
        "    # LAST LINE\n",
        "    return txt, b"
      ]
    },
    {
      "cell_type": "markdown",
      "id": "d73a9944",
      "metadata": {
        "deletable": false,
        "editable": false,
        "nbgrader": {
          "cell_type": "markdown",
          "checksum": "df658ca50600e1e99c1706dffa447437",
          "grade": false,
          "grade_id": "q8_desc",
          "locked": true,
          "schema_version": 3,
          "solution": false,
          "task": false
        },
        "id": "d73a9944"
      },
      "source": [
        "**Question 8:**\n",
        "* Convert the value of txt to lower case.\n",
        "* `txt = \"Welcome to the 2nd Laboratory\"`\n",
        "* Save the result in a new variable `lw`."
      ]
    },
    {
      "cell_type": "code",
      "execution_count": null,
      "id": "b3abc173",
      "metadata": {
        "deletable": false,
        "nbgrader": {
          "cell_type": "code",
          "checksum": "28ca95c55895bf0fc7361b179f0712d6",
          "grade": false,
          "grade_id": "q8_ans",
          "locked": false,
          "schema_version": 3,
          "solution": true,
          "task": false
        },
        "id": "b3abc173"
      },
      "outputs": [],
      "source": [
        "def q_8(txt = \"\", lw =\"\"):\n",
        "    # START YOUR CODE HERE\n",
        "\n",
        "    # LAST LINE\n",
        "    return txt, lw"
      ]
    },
    {
      "cell_type": "markdown",
      "id": "b8aa8843",
      "metadata": {
        "deletable": false,
        "editable": false,
        "nbgrader": {
          "cell_type": "markdown",
          "checksum": "596371dc2cec1c229322cd8f56cfea31",
          "grade": false,
          "grade_id": "q9_desc",
          "locked": true,
          "schema_version": 3,
          "solution": false,
          "task": false
        },
        "id": "b8aa8843"
      },
      "source": [
        "**Question 9:**\n",
        "* Replace the character o with an @ for txt.\n",
        "* `txt = \"Welcome to the 2nd Laboratory\"`\n",
        "* Save the result in a new variable `rp`.\n"
      ]
    },
    {
      "cell_type": "code",
      "execution_count": null,
      "id": "9c1ecbab",
      "metadata": {
        "deletable": false,
        "nbgrader": {
          "cell_type": "code",
          "checksum": "43e056c0ff520c958b59f260c36e9251",
          "grade": false,
          "grade_id": "q9_ans",
          "locked": false,
          "schema_version": 3,
          "solution": true,
          "task": false
        },
        "id": "9c1ecbab"
      },
      "outputs": [],
      "source": [
        "def q_9(txt = \"\", rp =\"\"):\n",
        "    # START YOUR CODE HERE\n",
        "\n",
        "    # LAST LINE\n",
        "    return txt, rp"
      ]
    },
    {
      "cell_type": "markdown",
      "source": [
        "**Question 10:**\n",
        "\n",
        "* Create the variables `k` equal to 12 and `l` equal to 17. Next, subtract 5 to the variable `k` and subtract 10 to variable `l`; the sum of `k` and `l` save it in the variable `m`."
      ],
      "metadata": {
        "collapsed": false,
        "id": "aGyU5jB-iXiZ"
      },
      "id": "aGyU5jB-iXiZ"
    },
    {
      "cell_type": "code",
      "execution_count": null,
      "outputs": [],
      "source": [
        "def q_10(k = 0, l =0, m = 0):\n",
        "    # START YOUR CODE HERE\n",
        "\n",
        "    # LAST LINE\n",
        "    return k, l, m"
      ],
      "metadata": {
        "pycharm": {
          "name": "#%%\n"
        },
        "id": "hUHBtYJyiXiZ"
      },
      "id": "hUHBtYJyiXiZ"
    },
    {
      "cell_type": "markdown",
      "id": "76b90a9a",
      "metadata": {
        "deletable": false,
        "editable": false,
        "nbgrader": {
          "cell_type": "markdown",
          "checksum": "1e4d3143bef1cf7c0d8445cc7e35c64d",
          "grade": false,
          "grade_id": "q10_desc",
          "locked": true,
          "schema_version": 3,
          "solution": false,
          "task": false
        },
        "id": "76b90a9a"
      },
      "source": [
        "**Question 11:**\n",
        "* Create a string variable `str_heart` that make the following pattern in one (line of code) sentence.\n",
        "\n",
        "       HHH    HHH\n",
        "  \n",
        "     HHH   HHH   HHH\n",
        "     \n",
        "    HHH          HHH\n",
        "    \n",
        "     HHH        HHH\n",
        "     \n",
        "      HHH      HHH\n",
        "      \n",
        "        HHH  HHH\n",
        "        \n",
        "          HHH\n"
      ]
    },
    {
      "cell_type": "code",
      "execution_count": null,
      "id": "c4ca0f6f",
      "metadata": {
        "deletable": false,
        "nbgrader": {
          "cell_type": "code",
          "checksum": "343cc165d728fcf08e6a99123930b365",
          "grade": false,
          "grade_id": "q10_ans",
          "locked": false,
          "schema_version": 3,
          "solution": true,
          "task": false
        },
        "id": "c4ca0f6f"
      },
      "outputs": [],
      "source": [
        "def q_11(str_heart =\"\"):\n",
        "    # START YOUR CODE HERE\n",
        "\n",
        "    # LAST LINE\n",
        "    return str_heart"
      ]
    },
    {
      "cell_type": "code",
      "execution_count": null,
      "outputs": [],
      "source": [
        "q_11()"
      ],
      "metadata": {
        "pycharm": {
          "name": "#%%\n"
        },
        "id": "OPWqSnSWiXia"
      },
      "id": "OPWqSnSWiXia"
    },
    {
      "cell_type": "markdown",
      "id": "2564d0f2",
      "metadata": {
        "deletable": false,
        "editable": false,
        "nbgrader": {
          "cell_type": "markdown",
          "checksum": "87fda00062f5774677289b77e6101aed",
          "grade": false,
          "grade_id": "Final",
          "locked": true,
          "schema_version": 3,
          "solution": false,
          "task": false
        },
        "id": "2564d0f2"
      },
      "source": [
        "### Congratulations! \n",
        "\n",
        "### You complete the second laboratory. \n",
        "\n",
        "### Please save your file and save it (push/commit changes) in GitHub in Lab 2."
      ]
    },
    {
      "cell_type": "code",
      "execution_count": null,
      "id": "a3fb66cb",
      "metadata": {
        "id": "a3fb66cb"
      },
      "outputs": [],
      "source": []
    }
  ],
  "metadata": {
    "kernelspec": {
      "display_name": "Python 3",
      "language": "python",
      "name": "python3"
    },
    "language_info": {
      "codemirror_mode": {
        "name": "ipython",
        "version": 3
      },
      "file_extension": ".py",
      "mimetype": "text/x-python",
      "name": "python",
      "nbconvert_exporter": "python",
      "pygments_lexer": "ipython3",
      "version": "3.7.11"
    },
    "colab": {
      "provenance": []
    }
  },
  "nbformat": 4,
  "nbformat_minor": 5
}